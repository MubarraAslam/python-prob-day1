{
 "cells": [
  {
   "cell_type": "markdown",
   "id": "254c6156-4fd4-408a-b06d-ce7e8ae3ed58",
   "metadata": {},
   "source": [
    "# Question 1"
   ]
  },
  {
   "cell_type": "code",
   "execution_count": null,
   "id": "da7c1232-997f-426c-a6c3-e49aabde8229",
   "metadata": {},
   "outputs": [],
   "source": [
    "'''Write your First Name, Last Name, City name, Country name and Device Processor \n",
    "Name'''(Use Print statement only"
   ]
  },
  {
   "cell_type": "code",
   "execution_count": null,
   "id": "b7feab53-ff82-4a88-9e01-2f86cfeb283c",
   "metadata": {},
   "outputs": [],
   "source": []
  },
  {
   "cell_type": "code",
   "execution_count": 1,
   "id": "9d30bce8-cc5a-4e73-a2bf-7d6c489b0e71",
   "metadata": {},
   "outputs": [
    {
     "name": "stdout",
     "output_type": "stream",
     "text": [
      "Mubarra Aslam,Farooqabad,Pakistan and Intel Core i5\n"
     ]
    }
   ],
   "source": [
    "print(\"Mubarra Aslam,Farooqabad,Pakistan and Intel Core i5\")"
   ]
  },
  {
   "cell_type": "code",
   "execution_count": null,
   "id": "dfdd0e9a-65a7-4bea-8ca9-52193e86dc2a",
   "metadata": {},
   "outputs": [],
   "source": []
  },
  {
   "cell_type": "markdown",
   "id": "908094ad-f5af-449b-9e34-aff73e71728f",
   "metadata": {},
   "source": [
    "# Question 2"
   ]
  },
  {
   "cell_type": "code",
   "execution_count": null,
   "id": "44ec7ef2-0aa0-44e2-97d8-da1c574e62c3",
   "metadata": {},
   "outputs": [],
   "source": [
    "#Write a Python program to print Months of Year in the following way"
   ]
  },
  {
   "cell_type": "code",
   "execution_count": 2,
   "id": "f9523c0d-00de-4466-99cc-a987a08c6863",
   "metadata": {},
   "outputs": [
    {
     "name": "stdout",
     "output_type": "stream",
     "text": [
      "\t \t January \n",
      "\t february \t march \n",
      " APril \t May \t June\n",
      " July \t August\t September\n",
      " \tOctober \t November\n",
      "\t \t December\n"
     ]
    }
   ],
   "source": [
    "print(\"\\t \\t January \\n\\t february \\t march \\n APril \\t May \\t June\\n July \\t August\\t September\\n \\tOctober \\t November\\n\\t \\t December\")"
   ]
  },
  {
   "cell_type": "code",
   "execution_count": null,
   "id": "726381af-40a6-47ae-aa35-a23f2bbd24e9",
   "metadata": {},
   "outputs": [],
   "source": []
  },
  {
   "cell_type": "markdown",
   "id": "3ca3186c-f208-4965-8c25-f63b7188aef7",
   "metadata": {},
   "source": [
    "# Question3"
   ]
  },
  {
   "cell_type": "code",
   "execution_count": null,
   "id": "e8b3eb27-b308-415b-826a-804b80cf1cc7",
   "metadata": {},
   "outputs": [],
   "source": [
    "#Explore \\t and write 1-2 lines explanation about it"
   ]
  },
  {
   "cell_type": "code",
   "execution_count": null,
   "id": "a426a94e-b9f6-42de-9f95-6bc692636a6b",
   "metadata": {},
   "outputs": [],
   "source": [
    "'\\t' is used to give indentation. It perform the same function as space . It only perform horizonatal indentation"
   ]
  }
 ],
 "metadata": {
  "kernelspec": {
   "display_name": "Python 3 (ipykernel)",
   "language": "python",
   "name": "python3"
  },
  "language_info": {
   "codemirror_mode": {
    "name": "ipython",
    "version": 3
   },
   "file_extension": ".py",
   "mimetype": "text/x-python",
   "name": "python",
   "nbconvert_exporter": "python",
   "pygments_lexer": "ipython3",
   "version": "3.11.7"
  }
 },
 "nbformat": 4,
 "nbformat_minor": 5
}
